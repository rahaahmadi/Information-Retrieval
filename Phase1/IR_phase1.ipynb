{
 "cells": [
  {
   "cell_type": "code",
   "execution_count": 150,
   "id": "d8e95d76",
   "metadata": {},
   "outputs": [],
   "source": [
    "import json\n",
    "from parsivar import Normalizer, Tokenizer, FindStems\n",
    "from hazm import stopwords_list\n",
    "import matplotlib.pyplot as plt\n",
    "import math\n",
    "import numpy as np\n",
    "import operator\n",
    "from itertools import permutations\n",
    "import re"
   ]
  },
  {
   "cell_type": "code",
   "execution_count": 2,
   "id": "04ec6aee",
   "metadata": {},
   "outputs": [],
   "source": [
    "class Term:\n",
    "    \n",
    "    def __init__(self, string):\n",
    "        self.string = string\n",
    "        self.total_freq = 0\n",
    "        self.pos_in_doc = {} \n",
    "        self.freq_in_doc = {} \n",
    "        \n",
    "    def set_total_freq(self, total_freq):\n",
    "        self.total_freq = total_freq\n",
    "\n",
    "    def set_pos_in_doc(self, pos_in_doc):\n",
    "        self.pos_in_doc = pos_in_doc\n",
    "\n",
    "    def set_freq_in_doc(self, freq_in_doc):\n",
    "        self.freq_in_doc = freq_in_doc\n",
    "        \n",
    "    def get_docs(self):\n",
    "        return self.pos_in_doc.keys()\n",
    "\n",
    "    def update_posting(self, doc_id, term_position):\n",
    "        \n",
    "        if doc_id not in self.pos_in_doc:\n",
    "            self.pos_in_doc[doc_id] = []\n",
    "            self.freq_in_doc[doc_id] = 1\n",
    "            \n",
    "        self.pos_in_doc[doc_id].append(term_position)\n",
    "        self.freq_in_doc[doc_id] += 1\n",
    "        self.total_freq += 1\n",
    "        "
   ]
  },
  {
   "cell_type": "code",
   "execution_count": 3,
   "id": "43f7d6a8",
   "metadata": {},
   "outputs": [],
   "source": [
    "def read_json(path):\n",
    "    json_file = open(path)\n",
    "    json_data = json.load(json_file)\n",
    "    return json_data"
   ]
  },
  {
   "cell_type": "code",
   "execution_count": 4,
   "id": "e64396a8",
   "metadata": {},
   "outputs": [],
   "source": [
    "def get_documents(data):\n",
    "    documents = []\n",
    "    for i in data:\n",
    "        documents.append(data[i]['content'])\n",
    "    return documents"
   ]
  },
  {
   "cell_type": "code",
   "execution_count": 5,
   "id": "f57a0da8",
   "metadata": {},
   "outputs": [],
   "source": [
    "def get_title_url(json_data, doc_id):\n",
    "    title = json_data[doc_id]['title']\n",
    "    url = json_data[doc_id]['url']\n",
    "    return title, url"
   ]
  },
  {
   "cell_type": "code",
   "execution_count": 185,
   "id": "cd990fc6",
   "metadata": {},
   "outputs": [],
   "source": [
    "def preprocess(docs, remove_stop_words, stemming_flag):\n",
    "\n",
    "    normalizer = Normalizer()\n",
    "    tokenizer = Tokenizer()\n",
    "    stemmer = FindStems()\n",
    "    documents_tokens = []\n",
    "    \n",
    "    for document in docs:\n",
    "        normalized_doc = normalizer.normalize(document)\n",
    "\n",
    "        tokens = tokenizer.tokenize_words(normalized_doc)\n",
    "        translation_table = str.maketrans('', '', \"><.،؟؛:{}\\|+ـ()*&^٪$#❊/[]=-«»\")\n",
    "        \n",
    "        final_tokens = []\n",
    "        for token in tokens:\n",
    "            token = token.translate(translation_table)\n",
    "            \n",
    "            if token == '':\n",
    "                continue\n",
    "                \n",
    "            if stemming_flag:\n",
    "                token = stemmer.convert_to_stem(token)\n",
    "            \n",
    "            if remove_stop_words:\n",
    "                if token in stopwords_list():\n",
    "                    continue\n",
    "            \n",
    "            final_tokens.append(token)\n",
    "            \n",
    "        documents_tokens.append(final_tokens)\n",
    "        \n",
    "    return documents_tokens"
   ]
  },
  {
   "cell_type": "code",
   "execution_count": 7,
   "id": "aec5c576",
   "metadata": {},
   "outputs": [],
   "source": [
    "def create_positional_index(docs):\n",
    "    terms_dict = {} \n",
    "    for doc_id in range(len(docs)):\n",
    "        doc = docs[doc_id]\n",
    "        for pos in range(len(doc)):\n",
    "            term = doc[pos]\n",
    "            if term in terms_dict:\n",
    "                term_obj = terms_dict[term]\n",
    "            else:\n",
    "                term_obj = Term(term)\n",
    "                \n",
    "            term_obj.update_posting(doc_id, pos)\n",
    "            terms_dict[term] = term_obj\n",
    "            \n",
    "    return terms_dict"
   ]
  },
  {
   "cell_type": "code",
   "execution_count": 8,
   "id": "0445e8e9",
   "metadata": {},
   "outputs": [],
   "source": [
    "def save_index(index, file_name):\n",
    "    \n",
    "    positional_index_json = {}\n",
    "    \n",
    "    for term_str, term_object in index.items():\n",
    "        positional_index_json[term_str] = term_object.__dict__\n",
    "        \n",
    "    with open(file_name, 'w', encoding='utf-8') as json_file:\n",
    "        json.dump(positional_index_json, json_file, indent=4, ensure_ascii=False)"
   ]
  },
  {
   "cell_type": "code",
   "execution_count": 9,
   "id": "8406b814",
   "metadata": {},
   "outputs": [],
   "source": [
    "def load_index(file_name):\n",
    "    \n",
    "    positional_index = {}\n",
    "    \n",
    "    with open(file_name, 'r', encoding='utf-8') as json_file:\n",
    "        positional_index_json = json.load(json_file)\n",
    "        \n",
    "    for term in positional_index_json:\n",
    "        term_object = Term(string=term)\n",
    "        term_object.set_total_freq(positional_index_json[term][\"total_freq\"])\n",
    "        term_object.set_pos_in_doc(positional_index_json[term][\"pos_in_doc\"])\n",
    "        term_object.set_freq_in_doc(positional_index_json[term][\"freq_in_doc\"])\n",
    "        positional_index[term] = term_object\n",
    "        \n",
    "    return positional_index"
   ]
  },
  {
   "cell_type": "code",
   "execution_count": 10,
   "id": "c483e57a",
   "metadata": {},
   "outputs": [],
   "source": [
    "json_data = read_json('IR_data_news_12k.json')\n",
    "documents = get_documents(json_data)"
   ]
  },
  {
   "cell_type": "code",
   "execution_count": 11,
   "id": "8062c9e9",
   "metadata": {},
   "outputs": [],
   "source": [
    "documents_tokens = preprocess(documents, remove_stop_words=True, stemming_flag=True)\n",
    "index_without_stop_words = create_positional_index(documents_tokens)"
   ]
  },
  {
   "cell_type": "code",
   "execution_count": 12,
   "id": "b354369d",
   "metadata": {},
   "outputs": [],
   "source": [
    "documents_tokens = preprocess(documents, remove_stop_words=False, stemming_flag=True)\n",
    "index_with_stop_words = create_positional_index(documents_tokens)"
   ]
  },
  {
   "cell_type": "code",
   "execution_count": 17,
   "id": "4ac7d3a6",
   "metadata": {},
   "outputs": [],
   "source": [
    "def plot_zipf(index, stop_words_flag):\n",
    "    \n",
    "    sorted_index = sorted(index.values(), key=operator.attrgetter('total_freq'), reverse=True)\n",
    "\n",
    "    max_freq = sorted_index[0].total_freq\n",
    "\n",
    "    log_rank = []\n",
    "    log_freq = []\n",
    "    log_cf = []\n",
    "    \n",
    "    for i, term in enumerate(sorted_index):\n",
    "        log_rank.append(math.log(i+1, 10))\n",
    "        log_freq.append(math.log(term.total_freq, 10))\n",
    "        log_cf.append(math.log(max_freq/(i+1), 10))\n",
    "\n",
    "    plt.plot(log_rank, log_freq)\n",
    "    plt.plot(log_rank, log_cf)\n",
    "    \n",
    "    plt.xlabel('log10 rank')\n",
    "    plt.ylabel('log10 frequency')\n",
    "    \n",
    "    if stop_words_flag:\n",
    "        plt.title(\"Zipf's law before removing stop words\")\n",
    "    else:\n",
    "        plt.title(\"Zipf's law after removing stop words\")\n",
    "    plt.show()"
   ]
  },
  {
   "cell_type": "code",
   "execution_count": 18,
   "id": "c150257b",
   "metadata": {},
   "outputs": [
    {
     "data": {
      "image/png": "[encoded data removed]",
      "text/plain": [
       "<Figure size 432x288 with 1 Axes>"
      ]
     },
     "metadata": {
      "needs_background": "light"
     },
     "output_type": "display_data"
    }
   ],
   "source": [
    "plot_zipf(index_with_stop_words, stop_words_flag=True)"
   ]
  },
  {
   "cell_type": "code",
   "execution_count": 19,
   "id": "9b1dc577",
   "metadata": {},
   "outputs": [
    {
     "data": {
      "image/png": "[encoded data removed]",
      "text/plain": [
       "<Figure size 432x288 with 1 Axes>"
      ]
     },
     "metadata": {
      "needs_background": "light"
     },
     "output_type": "display_data"
    }
   ],
   "source": [
    "plot_zipf(index_without_stop_words, stop_words_flag=False)"
   ]
  },
  {
   "cell_type": "code",
   "execution_count": 20,
   "id": "0fbcea17",
   "metadata": {},
   "outputs": [],
   "source": [
    "def get_collection_vocab_size(docs, stemming_flag):\n",
    "\n",
    "    docs_tokens = preprocess(docs, remove_stop_words=True, stemming_flag=stemming_flag)\n",
    "    collection_size = 0\n",
    "    \n",
    "    for doc in docs_tokens:\n",
    "        collection_size += len(doc)\n",
    "        \n",
    "    index = create_positional_index(docs_tokens)\n",
    "    vocab_size = len(index)\n",
    "    \n",
    "    return collection_size, vocab_size"
   ]
  },
  {
   "cell_type": "code",
   "execution_count": 21,
   "id": "f9dd6ee5",
   "metadata": {},
   "outputs": [
    {
     "name": "stdout",
     "output_type": "stream",
     "text": [
      "number of docs:  500   vocab size:  7728   collection size:  80124  stemming: True\n",
      "number of docs:  500   vocab size:  10055   collection size:  75314  stemming: False\n",
      "number of docs:  1000   vocab size:  11292   collection size:  164169  stemming: True\n",
      "number of docs:  1000   vocab size:  15025   collection size:  154262  stemming: False\n",
      "number of docs:  1500   vocab size:  13625   collection size:  248070  stemming: True\n",
      "number of docs:  1500   vocab size:  18345   collection size:  232838  stemming: False\n",
      "number of docs:  2000   vocab size:  15584   collection size:  326270  stemming: True\n",
      "number of docs:  2000   vocab size:  21008   collection size:  306138  stemming: False\n"
     ]
    }
   ],
   "source": [
    "doc_length_list = [500, 1000, 1500, 2000]\n",
    "\n",
    "T_with_stem = []\n",
    "T_without_stem = []\n",
    "M_with_stem = []\n",
    "M_without_stem = []\n",
    "\n",
    "for num in doc_length_list:\n",
    "    collection_size, vocab_size = get_collection_vocab_size(documents[:num], True)\n",
    "    print('number of docs: ', num, '  vocab size: ', vocab_size, '  collection size: ', collection_size, ' stemming: True')\n",
    "    T_with_stem.append(collection_size)\n",
    "    M_with_stem.append(vocab_size)\n",
    "    collection_size, vocab_size = get_collection_vocab_size(documents[:num], False)\n",
    "    print('number of docs: ', num, '  vocab size: ', vocab_size, '  collection size: ', collection_size, ' stemming: False')\n",
    "    T_without_stem.append(collection_size)\n",
    "    M_without_stem.append(vocab_size)"
   ]
  },
  {
   "cell_type": "code",
   "execution_count": 24,
   "id": "74721c2d",
   "metadata": {},
   "outputs": [],
   "source": [
    "def plot_heaps():\n",
    "    \n",
    "    log_M_with_stem = np.log10(M_with_stem)\n",
    "    log_T_with_stem = np.log10(T_with_stem)\n",
    "    log_M_without_stem  = np.log10(M_without_stem)\n",
    "    log_T_without_stem = np.log10(T_without_stem)\n",
    "\n",
    "    plt.plot(log_T_with_stem, log_M_with_stem)\n",
    "    [b, log_k] = np.polyfit(log_T_with_stem, log_M_with_stem, 1)\n",
    "    plt.plot(log_T_with_stem, b * log_T_with_stem + log_k)\n",
    "    \n",
    "\n",
    "    plt.plot(log_T_without_stem, log_M_without_stem)\n",
    "    [b, log_k] = np.polyfit(log_T_without_stem, log_M_without_stem, 1)\n",
    "    plt.plot(log_T_without_stem, b * log_T_without_stem + log_k)\n",
    "\n",
    "    plt.title(\"Heaps' Law\")\n",
    "    plt.legend([\"Actual Values after stemming\", \"Heaps' Law after stemming\",\n",
    "                \"Actual Values before stemming\", \"Heaps' Law before stemming\"])\n",
    "    plt.xlabel('log10 T')\n",
    "    plt.ylabel('log10 M')\n",
    "    plt.show()"
   ]
  },
  {
   "cell_type": "code",
   "execution_count": 25,
   "id": "5c0029bc",
   "metadata": {},
   "outputs": [
    {
     "data": {
      "image/png": "[encoded data removed]",
      "text/plain": [
       "<Figure size 432x288 with 1 Axes>"
      ]
     },
     "metadata": {
      "needs_background": "light"
     },
     "output_type": "display_data"
    }
   ],
   "source": [
    "plot_heaps()"
   ]
  },
  {
   "cell_type": "code",
   "execution_count": 26,
   "id": "bdb62770",
   "metadata": {},
   "outputs": [],
   "source": [
    "save_index(index_without_stop_words, 'index_without_stop_words.json')"
   ]
  },
  {
   "cell_type": "code",
   "execution_count": 27,
   "id": "cd90d941",
   "metadata": {},
   "outputs": [],
   "source": [
    "save_index(index_with_stop_words, 'index_with_stop_words.json')"
   ]
  },
  {
   "cell_type": "code",
   "execution_count": 28,
   "id": "799e426e",
   "metadata": {},
   "outputs": [],
   "source": [
    "positional_index = load_index('index_without_stop_words.json')"
   ]
  },
  {
   "cell_type": "code",
   "execution_count": 29,
   "id": "56056c74",
   "metadata": {},
   "outputs": [],
   "source": [
    "def positional_intersect(pos_dict_1, pos_dict_2, k):\n",
    "    \n",
    "    doc_ids_1 = list(pos_dict_1.keys())\n",
    "    doc_ids_2 = list(pos_dict_2.keys())\n",
    "    doc_ids_1.sort()\n",
    "    doc_ids_2.sort()\n",
    "    \n",
    "    answer = []\n",
    "    i, j = 0, 0\n",
    "    \n",
    "    while i < len(doc_ids_1) and j < len(doc_ids_2):\n",
    "        doc_id_1 = doc_ids_1[i]\n",
    "        doc_id_2 = doc_ids_2[j]\n",
    "\n",
    "        if doc_id_1 == doc_id_2:\n",
    "            pos_list_1 = pos_dict_1[doc_id_1]\n",
    "            pos_list_2 = pos_dict_2[doc_id_2]\n",
    "\n",
    "            for pos in pos_list_1:\n",
    "                if pos + k in pos_list_2 or pos - k in pos_list_2:\n",
    "                    answer.append(doc_id_1)\n",
    "\n",
    "            i, j = i + 1, j + 1\n",
    "            \n",
    "        elif doc_id_1 < doc_id_2:\n",
    "            i += 1\n",
    "        else:\n",
    "            j += 1\n",
    "\n",
    "    return answer"
   ]
  },
  {
   "cell_type": "code",
   "execution_count": 30,
   "id": "0b7bf916",
   "metadata": {},
   "outputs": [],
   "source": [
    "def process_phrase(tokens):\n",
    "    \n",
    "    result = []\n",
    "    \n",
    "    for biword in permutations(tokens, 2):\n",
    "        w1 = biword[0]\n",
    "        w2 = biword[1]\n",
    "        \n",
    "        if (w1 not in positional_index.keys()) or (w2 not in positional_index.keys()):\n",
    "            return []\n",
    "        \n",
    "        indx1 = tokens.index(w1)\n",
    "        indx2 = tokens.index(w2)\n",
    "        pos_dic_1 = positional_index.get(w1).pos_in_doc\n",
    "        pos_dic_2 = positional_index.get(w2).pos_in_doc  \n",
    "        k = abs(indx1-indx2)\n",
    "        docs = positional_intersect(pos_dic_1, pos_dic_2, k)\n",
    "        \n",
    "        if len(result) == 0:\n",
    "            result = docs\n",
    "        else:\n",
    "            result = list(set(result) & set(docs))\n",
    "            \n",
    "    return result"
   ]
  },
  {
   "cell_type": "code",
   "execution_count": 377,
   "id": "a66d6976",
   "metadata": {},
   "outputs": [],
   "source": [
    "def process_query(not_words=[], phrases=[], words=[]):\n",
    "    ranks={}\n",
    "    \n",
    "    for token in words:\n",
    "        if token in positional_index.keys():\n",
    "            for doc_id in positional_index[token].get_docs():\n",
    "                if doc_id in ranks.keys():\n",
    "                    ranks[doc_id]+=1\n",
    "                else:\n",
    "                    ranks[doc_id]=1\n",
    "    \n",
    "    for phrase in phrases:\n",
    "        for doc_id in process_phrase(phrase):\n",
    "            if doc_id in ranks.keys():\n",
    "                ranks[doc_id] += 1\n",
    "            else:\n",
    "                ranks[doc_id] = 1\n",
    "    \n",
    "    not_words_docs = []\n",
    "    for word in not_words:\n",
    "        doc_ids = positional_index[word].get_docs()\n",
    "        for doc_id in doc_ids:\n",
    "            not_words_docs.append(doc_id)\n",
    "            \n",
    "    if len(ranks) > 0:\n",
    "        for doc in not_words_docs:\n",
    "            if doc in ranks.keys():\n",
    "                del ranks[doc]\n",
    "                \n",
    "    ranks = dict(sorted(ranks.items(), key=lambda x: x[1], reverse=True))\n",
    "    \n",
    "    return ranks"
   ]
  },
  {
   "cell_type": "code",
   "execution_count": 378,
   "id": "4039b412",
   "metadata": {},
   "outputs": [],
   "source": [
    "def get_not_terms(query):\n",
    "    res = []\n",
    "    splitted_query = query.split()\n",
    "    indices = [i for i in range(len(splitted_query)) if splitted_query[i]=='!']\n",
    "    for i in indices:\n",
    "        res.append(splitted_query[i+1])\n",
    "    return res"
   ]
  },
  {
   "cell_type": "code",
   "execution_count": 379,
   "id": "991e2d03",
   "metadata": {},
   "outputs": [],
   "source": [
    "def get_phrase(query):\n",
    "    res = []\n",
    "    quoted = re.compile('\"[^\"]*\"')\n",
    "    for value in quoted.findall(query):\n",
    "        value = value.replace('\"', '').strip().split()\n",
    "        res.append(value)\n",
    "    return res"
   ]
  },
  {
   "cell_type": "code",
   "execution_count": 380,
   "id": "bef62e01",
   "metadata": {},
   "outputs": [],
   "source": [
    "def search_query(query):\n",
    "    query = ' '.join(preprocess([query], True, True)[0])\n",
    "    phrases = get_phrase(query)\n",
    "    flat_phrases = [item for sublist in phrases for item in sublist]\n",
    "    not_words = get_not_terms(query)\n",
    "    query = query.replace('\"', '')\n",
    "    query = query.replace('!', '')\n",
    "    splitted_query = query.split()\n",
    "    words = [x for x in splitted_query if x not in not_words and x not in flat_phrases]\n",
    "    output = process_query(not_words=not_words, phrases=phrases, words=words)  \n",
    "    return output"
   ]
  },
  {
   "cell_type": "code",
   "execution_count": 381,
   "id": "34b0ccc4",
   "metadata": {},
   "outputs": [],
   "source": [
    "def print_output(output_dict):\n",
    "    ids = list(output_dict.keys())[:5]\n",
    "    for id in ids:\n",
    "        title, url = get_title_url(json_data, id)\n",
    "        print('title: ', title, '\\nurl: ', url)"
   ]
  },
  {
   "cell_type": "code",
   "execution_count": 382,
   "id": "1643e445",
   "metadata": {},
   "outputs": [
    {
     "name": "stdout",
     "output_type": "stream",
     "text": [
      "title:  خبرگزاری فارس ۱۹ ساله شد \n",
      "url:  https://www.farsnews.ir/news/14001122000809/خبرگزاری-فارس-۱۹-ساله-شد\n",
      "title:  اصولی: فدراسیون فوتبال جمهوری اسلامی ایران هستیم نه جزیره مستقل/ با گفتار ساختارشکنانه فدراسیون را به ناکجا آباد می‌برند \n",
      "url:  https://www.farsnews.ir/news/14001117000518/اصولی-فدراسیون-فوتبال-جمهوری-اسلامی-ایران-هستیم-نه-جزیره-مستقل-با\n",
      "title:  احتمال مبادله نازنین زاغری در ازای 530میلیون دلار \n",
      "url:  https://www.farsnews.ir/news/14001223001080/احتمال-مبادله-نازنین-زاغری-در-ازای-530میلیون-دلار\n",
      "title:  متکی: آمریکا با ابزار ناتو به دنبال تجزیه روسیه است \n",
      "url:  https://www.farsnews.ir/news/14001222000749/متکی-آمریکا-با-ابزار-ناتو-به-دنبال-تجزیه-روسیه-است\n",
      "title:  توضیحات یک منبع آگاه درباره وقفه مذاکرات وین \n",
      "url:  https://www.farsnews.ir/news/14001222000450/توضیحات-یک-منبع-آگاه-درباره-وقفه-مذاکرات-وین\n"
     ]
    }
   ],
   "source": [
    "query = 'تحریم‌های آمریکا علیه ایران'\n",
    "res = search_query(query)\n",
    "print_output(res)"
   ]
  },
  {
   "cell_type": "code",
   "execution_count": 292,
   "id": "6535f6de",
   "metadata": {},
   "outputs": [
    {
     "name": "stdout",
     "output_type": "stream",
     "text": [
      "title:  ادامه تحریم‌های سیاسی علیه المپیک پکن/ژاپن هم به صف منتقدان پیوست \n",
      "url:  https://www.farsnews.ir/news/14001003000306/ادامه-تحریم‌های-سیاسی-علیه-المپیک-پکن-ژاپن-هم-به-صف-منتقدان-پیوست\n",
      "title:  انتقاد دانشجویان ایرانی در اروپا به برخورد دوگانه مدعیان حقوق بشر با قضایای اوکراین و جنایت‌های آل سعود \n",
      "url:  https://www.farsnews.ir/news/14001224000014/انتقاد-دانشجویان-ایرانی-در-اروپا-به-برخورد-دوگانه-مدعیان-حقوق-بشر-با\n",
      "title:  محو رژیم صهیونیستی از آرمان‌های نظام اسلامی حذف نشده است \n",
      "url:  https://www.farsnews.ir/news/14001222000379/محو-رژیم-صهیونیستی-از-آرمان‌های-نظام-اسلامی-حذف-نشده-است\n",
      "title:  تجربه نشان داده به عهد آمریکا در مذاکرات نمی‌شود اعتماد کرد \n",
      "url:  https://www.farsnews.ir/news/14001203000366/تجربه-نشان-داده-به-عهد-آمریکا-در-مذاکرات-نمی‌شود-اعتماد-کرد\n",
      "title:  سود مافیای اسلحه‌سازی آمریکا در ناامن بودن جهان است \n",
      "url:  https://www.farsnews.ir/news/14001211000898/سود-مافیای-اسلحه‌سازی-آمریکا-در-ناامن-بودن-جهان-است\n"
     ]
    }
   ],
   "source": [
    "query = 'تحریم‌های آمریکا ! ایران'\n",
    "res = search_query(query)\n",
    "print_output(res)"
   ]
  },
  {
   "cell_type": "code",
   "execution_count": 293,
   "id": "4733354e",
   "metadata": {},
   "outputs": [
    {
     "name": "stdout",
     "output_type": "stream",
     "text": [
      "title:  توضیحات یک منبع آگاه درباره وقفه مذاکرات وین \n",
      "url:  https://www.farsnews.ir/news/14001222000450/توضیحات-یک-منبع-آگاه-درباره-وقفه-مذاکرات-وین\n"
     ]
    }
   ],
   "source": [
    "query = '\"کنگره ضدتروریست\"'\n",
    "res = search_query(query)\n",
    "print_output(res)"
   ]
  },
  {
   "cell_type": "code",
   "execution_count": 294,
   "id": "b1747468",
   "metadata": {},
   "outputs": [
    {
     "name": "stdout",
     "output_type": "stream",
     "text": [
      "title:  بمب خبری بازگشت مسی به بارسلونا خنثی شد/پای جام جهانی درمیان است \n",
      "url:  https://www.farsnews.ir/news/14001221000109/بمب-خبری-بازگشت-مسی-به-بارسلونا-خنثی-شد-پای-جام-جهانی-درمیان-است\n",
      "title:  منچستریونایتد به دنبال بهترین بازیکن دنیا / زوج «رونالدو - لواندوفسکی» در اولدترافورد +عکس \n",
      "url:  https://www.farsnews.ir/news/14001220000373/منچستریونایتد-به-دنبال-بهترین-بازیکن-دنیا--زوج-رونالدو--لواندوفسکی\n",
      "title:  راهیابی بانوی سنگنورد کشورمان به مسابقات جهانی آمریکا \n",
      "url:  https://www.farsnews.ir/news/14001217000994/راهیابی-بانوی-سنگنورد-کشورمان-به-مسابقات-جهانی-آمریکا\n",
      "title:  مدرس جهانی تنیس روی میز: صحبت‌های عیلقارداشی بیشتر شوخی است تا جدی/در همه زمینه‌ها سقوط کردیم \n",
      "url:  https://www.farsnews.ir/news/14001214000887/مدرس-جهانی-تنیس-روی-میز-صحبت‌های-عیلقارداشی-بیشتر-شوخی-است-تا-جدی-در\n",
      "title:  راجر فدرر از زمان بازگشتش به میادین پرده برداشت \n",
      "url:  https://www.farsnews.ir/news/14001214000736/راجر-فدرر-از-زمان-بازگشتش-به-میادین-پرده-برداشت\n"
     ]
    }
   ],
   "source": [
    "query = '\"تحریم هسته‌ای\" آمریکا ! ایران'\n",
    "res = search_query(query)\n",
    "print_output(res)"
   ]
  },
  {
   "cell_type": "code",
   "execution_count": 295,
   "id": "25ab9ba2",
   "metadata": {
    "scrolled": true
   },
   "outputs": [
    {
     "name": "stdout",
     "output_type": "stream",
     "text": [
      "title:  ۹ دی یکی از روزهای فراموش نشدنی در تاریخ انقلاب اسلامی است \n",
      "url:  https://www.farsnews.ir/news/14001007000363/۹-دی-یکی-از-روزهای-فراموش-نشدنی-در-تاریخ-انقلاب-اسلامی-است\n",
      "title:  اعلام زمان قرعه کشی جام باشگاه های فوتسال آسیا \n",
      "url:  https://www.farsnews.ir/news/14001224001005/اعلام-زمان-قرعه-کشی-جام-باشگاه-های-فوتسال-آسیا\n",
      "title:  محل برگزاری نشست‌های خبری سرخابی‌ها؛ مجیدی در سازمان لیگ، گل‌محمدی در تمرین پرسپولیس \n",
      "url:  https://www.farsnews.ir/news/14001224000971/محل-برگزاری-نشست‌های-خبری-سرخابی‌ها-مجیدی-در-سازمان-لیگ-گل‌محمدی-در\n",
      "title:  ماجدی در نشست با صالحی امیری: امیدوارم در این دوره تیم  المپیک موفق شود \n",
      "url:  https://www.farsnews.ir/news/14001224000964/ماجدی-در-نشست-با-صالحی-امیری-امیدوارم-در-این-دوره-تیم-المپیک-موفق\n",
      "title:  مسابقات تنیس روی میز فیدر قطر| هر4 بانوی ملی پوش ایران حذف شدند \n",
      "url:  https://www.farsnews.ir/news/14001224000916/مسابقات-تنیس-روی-میز-فیدر-قطر|-هر4-بانوی-ملی-پوش-ایران-حذف-شدند\n"
     ]
    }
   ],
   "source": [
    "query = '\"تحریم هسته‌ای\" ایران ! آمریکا'\n",
    "res = search_query(query)\n",
    "print_output(res)"
   ]
  },
  {
   "cell_type": "code",
   "execution_count": 297,
   "id": "888ddbae",
   "metadata": {},
   "outputs": [
    {
     "name": "stdout",
     "output_type": "stream",
     "text": [
      "title:  سفر تیم فوتبال معلولان فلسطین به تهران \n",
      "url:  https://www.farsnews.ir/news/14001212000749/سفر-تیم-فوتبال-معلولان-فلسطین-به-تهران\n",
      "title:  بیانیه بسیج ورزشکاران در محکومیت اقدام شرم‌آور سرمربی تیم ملی امید \n",
      "url:  https://www.farsnews.ir/news/14000929000204/بیانیه-بسیج-ورزشکاران-در-محکومیت-اقدام-شرم‌آور-سرمربی-تیم-ملی-امید\n",
      "title:  اقدام تحسین برانگیز سرمربی الجزایر در حمایت از فلسطین/جام قهرمانی به مردم غزه اهدا شد \n",
      "url:  https://www.farsnews.ir/news/14000928000274/اقدام-تحسین-برانگیز-سرمربی-الجزایر-در-حمایت-از-فلسطین-جام-قهرمانی-به\n",
      "title:  اردوغان علاوه بر آرمان فلسطین بر باورهای مردم ترکیه هم پا گذاشت \n",
      "url:  https://www.farsnews.ir/news/14001220000842/اردوغان-علاوه-بر-آرمان-فلسطین-بر-باورهای-مردم-ترکیه-هم-پا-گذاشت\n",
      "title:  نگاه دوگانه برخی جریان‌ها به یمن و اوکراین نشانه سرسپردگی‌شان به آمریکاست \n",
      "url:  https://www.farsnews.ir/news/14001209000540/نگاه-دوگانه-برخی-جریان‌ها-به-یمن-و-اوکراین-نشانه-سرسپردگی‌شان-به\n"
     ]
    }
   ],
   "source": [
    "query = 'غزه ! ضدتروریست'\n",
    "res = search_query(query)\n",
    "print_output(res)"
   ]
  }
 ],
 "metadata": {
  "kernelspec": {
   "display_name": "Python 3 (ipykernel)",
   "language": "python",
   "name": "python3"
  },
  "language_info": {
   "codemirror_mode": {
    "name": "ipython",
    "version": 3
   },
   "file_extension": ".py",
   "mimetype": "text/x-python",
   "name": "python",
   "nbconvert_exporter": "python",
   "pygments_lexer": "ipython3",
   "version": "3.9.7"
  }
 },
 "nbformat": 4,
 "nbformat_minor": 5
}
