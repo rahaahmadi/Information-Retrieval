{
 "cells": [
  {
   "cell_type": "code",
   "execution_count": 305,
   "id": "a7675993",
   "metadata": {},
   "outputs": [],
   "source": [
    "import os\n",
    "import sys\n",
    "module_path = os.path.abspath(os.path.join('.'))\n",
    "if module_path not in sys.path:\n",
    "    sys.path.append(module_path)"
   ]
  },
  {
   "cell_type": "code",
   "execution_count": 188,
   "id": "b2c5e9fb",
   "metadata": {},
   "outputs": [],
   "source": [
    "import math\n",
    "import numpy as np\n",
    "from phase1 import load_index, preprocess, read_json, get_documents, get_title_url"
   ]
  },
  {
   "cell_type": "code",
   "execution_count": 27,
   "id": "480f1249",
   "metadata": {},
   "outputs": [],
   "source": [
    "def calculate_tf(term, doc_id):\n",
    "    freq = term.freq_in_doc[doc_id]\n",
    "    if freq > 0:\n",
    "        return 1 + math.log10(term.freq_in_doc[doc_id])\n",
    "    return 0"
   ]
  },
  {
   "cell_type": "code",
   "execution_count": 62,
   "id": "1a2e42e0",
   "metadata": {},
   "outputs": [],
   "source": [
    "def calculate_idf(term, collection_size):\n",
    "    return math.log10(collection_size / len(term.freq_in_doc))"
   ]
  },
  {
   "cell_type": "code",
   "execution_count": 131,
   "id": "ed47b9a0",
   "metadata": {},
   "outputs": [],
   "source": [
    "def calculate_tf_query(term, tokens):\n",
    "    freq = 0\n",
    "    for token in tokens:\n",
    "        if term == token:\n",
    "            freq += 1\n",
    "    if freq > 0:\n",
    "        return 1 + math.log10(freq)\n",
    "    return 0"
   ]
  },
  {
   "cell_type": "code",
   "execution_count": 63,
   "id": "b3e82e40",
   "metadata": {},
   "outputs": [],
   "source": [
    "def get_tf_idf(term, doc_id, collection_size):\n",
    "    tf = calculate_tf(term, doc_id)\n",
    "    idf = calculate_idf(term, collection_size)\n",
    "    return tf * idf"
   ]
  },
  {
   "cell_type": "code",
   "execution_count": 60,
   "id": "5d0e2989",
   "metadata": {},
   "outputs": [],
   "source": [
    "def compute_weights(dictionary, collection_size):\n",
    "    term_weight = {}\n",
    "    for term in dictionary:\n",
    "        for doc_id in dictionary[term].get_docs():\n",
    "            weight = get_tf_idf(dictionary[term], doc_id, collection_size)\n",
    "            if term not in term_weight:\n",
    "                term_weight[term] = {}\n",
    "            term_weight[term][doc_id] = weight\n",
    "    return term_weight"
   ]
  },
  {
   "cell_type": "code",
   "execution_count": 106,
   "id": "77620ade",
   "metadata": {},
   "outputs": [],
   "source": [
    "def get_docs_norm(weight_dict, collection_size):\n",
    "    lengths = np.zeros(collection_size)\n",
    "    for term in weight_dict:\n",
    "        for doc_id, weight in weight_dict[term].items():\n",
    "            lengths[int(doc_id)] += weight ** 2\n",
    "    return np.sqrt(lengths)"
   ]
  },
  {
   "cell_type": "code",
   "execution_count": 87,
   "id": "f37ca842",
   "metadata": {},
   "outputs": [],
   "source": [
    "def create_champion_list(term_weights, r):\n",
    "    champs = {}\n",
    "    for term in term_weights:\n",
    "        champs[term] = dict(sorted(term_weights[term].items(), key=lambda item: item[1], reverse=True)[:r])\n",
    "    return champs"
   ]
  },
  {
   "cell_type": "code",
   "execution_count": 259,
   "id": "010b45f4",
   "metadata": {},
   "outputs": [],
   "source": [
    "def cosine_similarity(query_tokens, weights_dict, dictionary, collection_size, norms):\n",
    "    scores = {}\n",
    "    for term in query_tokens:\n",
    "        if term in weights_dict:\n",
    "            token_weight = calculate_tf_query(term, query_tokens) * calculate_idf(dictionary[term], collection_size)\n",
    "            for doc_id, weight in weights_dict[term].items():\n",
    "                if doc_id not in scores:\n",
    "                    scores[doc_id] = 0\n",
    "                scores[doc_id] += token_weight * weight \n",
    "                \n",
    "    for doc_id in scores:\n",
    "        scores[doc_id] /= norms[int(doc_id)]    \n",
    "    \n",
    "    return scores"
   ]
  },
  {
   "cell_type": "code",
   "execution_count": 204,
   "id": "39a1ac7f",
   "metadata": {},
   "outputs": [],
   "source": [
    "def print_result(data_json, socres, k):\n",
    "    sorted_scores = dict(sorted(socres.items(), key=lambda item: item[1],reverse=True)[:k])\n",
    "    for doc_id in sorted_scores:\n",
    "        title, url = get_title_url(data_json, doc_id)\n",
    "        print('title: ', title, '\\nurl: ', url)"
   ]
  },
  {
   "cell_type": "code",
   "execution_count": 43,
   "id": "7f965485",
   "metadata": {},
   "outputs": [],
   "source": [
    "inverted_index = load_index('index_without_stop_words.json')"
   ]
  },
  {
   "cell_type": "code",
   "execution_count": 50,
   "id": "961cc548",
   "metadata": {},
   "outputs": [],
   "source": [
    "json_data = read_json('IR_data_news_12k.json')\n",
    "documents = get_documents(json_data)"
   ]
  },
  {
   "cell_type": "code",
   "execution_count": 94,
   "id": "d0ca3d8a",
   "metadata": {},
   "outputs": [],
   "source": [
    "N = len(documents)"
   ]
  },
  {
   "cell_type": "code",
   "execution_count": 64,
   "id": "6e4db7f6",
   "metadata": {},
   "outputs": [],
   "source": [
    "term_weights_dict = compute_weights(inverted_index, N)"
   ]
  },
  {
   "cell_type": "code",
   "execution_count": 88,
   "id": "f4dbd8d1",
   "metadata": {},
   "outputs": [],
   "source": [
    "champion_list = create_champion_list(term_weights_dict, 50)"
   ]
  },
  {
   "cell_type": "code",
   "execution_count": 181,
   "id": "f11e5191",
   "metadata": {},
   "outputs": [],
   "source": [
    "docs_norms = get_docs_norm(term_weights_dict, N)"
   ]
  },
  {
   "cell_type": "code",
   "execution_count": 205,
   "id": "d200ac7e",
   "metadata": {},
   "outputs": [
    {
     "name": "stdout",
     "output_type": "stream",
     "text": [
      "title:  نکونام: نفتی ها بهترین بازی خود را انجام دادند/بازیکنان جدیدمان کیفیت بالای خود را نشان دادند \n",
      "url:  https://www.farsnews.ir/news/14001204001165/نکونام-نفتی-ها-بهترین-بازی-خود-را-انجام-دادند-بازیکنان-جدیدمان-کیفیت\n",
      "title:  ماجدی: فوتبال کشور به تغییرات نیاز دارد \n",
      "url:  https://www.farsnews.ir/news/14001223000539/ماجدی-فوتبال-کشور-به-تغییرات-نیاز-دارد\n",
      "title:  تقدیر مربی تیم فوتبال خلیج فارس از ماجدی بابت رسیدگی به شائبه تبانی در لیگ جوانان \n",
      "url:  https://www.farsnews.ir/news/14001222000297/تقدیر-مربی-تیم-فوتبال-خلیج-فارس-از-ماجدی-بابت-رسیدگی-به-شائبه-تبانی-در\n",
      "title:  دیدار مدیر تیم ملی ایران با سفیر کره جنوبی/ هیان: امیدوارم مقابل ایران مساوی کنیم \n",
      "url:  https://www.farsnews.ir/news/14001213000138/دیدار-مدیر-تیم-ملی-ایران-با-سفیر-کره-جنوبی-هیان-امیدوارم-مقابل-ایران\n",
      "title:  امیدواری ملی پوش سابق فوتبال ساحلی بابت تغییرات در کادرفنی تیم ملی \n",
      "url:  https://www.farsnews.ir/news/14000927000275/امیدواری-ملی-پوش-سابق-فوتبال-ساحلی-بابت-تغییرات-در-کادرفنی-تیم-ملی\n"
     ]
    }
   ],
   "source": [
    "query = 'فوتبال'\n",
    "query_tokens = preprocess([query], True, True)[0]\n",
    "scores = cosine_similarity(query_tokens, champion_list, inverted_index, N, docs_norms)\n",
    "print_result(json_data, scores, k=5)"
   ]
  },
  {
   "cell_type": "code",
   "execution_count": 309,
   "id": "1a97ce6a",
   "metadata": {},
   "outputs": [
    {
     "name": "stdout",
     "output_type": "stream",
     "text": [
      "title:  اسکوچیچ: مردم متوجه شده‌اند که می‌توانند هدایت تیم ملی را به من واگذار کنند/هاشمیان سواد اروپایی از فوتبال دارد \n",
      "url:  https://www.farsnews.ir/news/14001222000329/اسکوچیچ-مردم-متوجه-شده‌اند-که-می‌توانند-هدایت-تیم-ملی-را-به-من-واگذار\n",
      "title:  مصاحبه فارس با کارشناس فوتبال آسیا| از میراث بزرگ کی‌روش و قدرت ایران با اسکوچیچ تا انقلاب برانکو در عمان \n",
      "url:  https://www.farsnews.ir/news/14001124000522/مصاحبه-فارس-با-کارشناس-فوتبال-آسیا|-از-میراث-بزرگ-کی‌روش-و-قدرت-ایران\n",
      "title:  مصاحبه فارس با یک مسؤول فدراسیون عراق: «دربی آسیا» جذاب و غیرقابل پیش‌بینی است/ ایران زیرنظر اسکوچیچ تاکتیک‌پذیرتر از دوران کی‌روش \n",
      "url:  https://www.farsnews.ir/news/14001104000095/مصاحبه-فارس-با-یک-مسؤول-فدراسیون-عراق-دربی-آسیا-جذاب-و-غیرقابل\n",
      "title:  مصاحبه فارس با خبرنگار عراقی| از پیشرفت ایران با اسکوچیچ، طارمی و آزمون تا تاثیر مکتب حاج قاسم در جهان \n",
      "url:  https://www.farsnews.ir/news/14001014000335/مصاحبه-فارس-با-خبرنگار-عراقی|-از-پیشرفت-ایران-با-اسکوچیچ-طارمی-و-آزمون\n",
      "title:  نکونام: نفتی ها بهترین بازی خود را انجام دادند/بازیکنان جدیدمان کیفیت بالای خود را نشان دادند \n",
      "url:  https://www.farsnews.ir/news/14001204001165/نکونام-نفتی-ها-بهترین-بازی-خود-را-انجام-دادند-بازیکنان-جدیدمان-کیفیت\n"
     ]
    }
   ],
   "source": [
    "query = 'تیم ملی فوتبال ایران'\n",
    "query_tokens = preprocess([query], True, True)[0]\n",
    "scores = cosine_similarity(query_tokens, champion_list, inverted_index, N, docs_norms)\n",
    "print_result(json_data, scores, k=5)"
   ]
  },
  {
   "cell_type": "code",
   "execution_count": 274,
   "id": "b15b299c",
   "metadata": {},
   "outputs": [
    {
     "name": "stdout",
     "output_type": "stream",
     "text": [
      "title:  تجلیل از خانواده شهید حسن نوفلاح با تقدیم مدال قهرمانی \n",
      "url:  https://www.farsnews.ir/news/14001205000938/تجلیل-از-خانواده-شهید-حسن-نوفلاح-با-تقدیم-مدال-قهرمانی\n",
      "title:  سرپرست  فدراسیون شنا، شیرجه و واترپلو  منصوب شد \n",
      "url:  https://www.farsnews.ir/news/14001011000202/سرپرست-فدراسیون-شنا-شیرجه-و-واترپلو-منصوب-شد\n",
      "title:  رضوانی رئیس فدراسیون شنا ماند/ 3 رای سفید برای تنها کاندیدا \n",
      "url:  https://www.farsnews.ir/news/14001020000253/رضوانی-رئیس-فدراسیون-شنا-ماند-3-رای-سفید-برای-تنها-کاندیدا\n",
      "title:  گرفتن ۷۰ نمونه تست دوپینگ در ۸ رشته طی یک هفته \n",
      "url:  https://www.farsnews.ir/news/14001207000351/گرفتن-۷۰-نمونه-تست-دوپینگ-در-۸-رشته-طی-یک-هفته\n",
      "title:  برنامه‌های رئیس فدراسیون شنا برای 4 سال آینده/ رضوانی: تلاش می‌کنیم به اهداف‌مان در بازی‌های آسیایی برسیم \n",
      "url:  https://www.farsnews.ir/news/14001020000394/برنامه‌های-رئیس-فدراسیون-شنا-برای-4-سال-آینده-رضوانی-تلاش-می‌کنیم-به\n"
     ]
    }
   ],
   "source": [
    "query = 'واترپلو'\n",
    "query_tokens = preprocess([query], True, True)[0]\n",
    "scores = cosine_similarity(query_tokens, champion_list, inverted_index, N, docs_norms)\n",
    "print_result(json_data, scores, k=5)"
   ]
  },
  {
   "cell_type": "code",
   "execution_count": 315,
   "id": "6c1fff9b",
   "metadata": {},
   "outputs": [
    {
     "name": "stdout",
     "output_type": "stream",
     "text": [
      "title:  مرندی: رهبر انقلاب دُز سوم واکسن کرونا را دریافت کرده‌اند \n",
      "url:  https://www.farsnews.ir/news/14001117000930/مرندی-رهبر-انقلاب-دُز-سوم-واکسن-کرونا-را-دریافت-کرده‌اند\n",
      "title:  الهیان: وزارت بهداشت درباره علت عدم پیش خرید واکسن فخرا توضیح دهد \n",
      "url:  https://www.farsnews.ir/news/14000729000462/الهیان-وزارت-بهداشت-درباره-علت-عدم-پیش-خرید-واکسن-فخرا-توضیح-دهد\n",
      "title:  رئیسی: مسافرت با رعایت اصول بهداشتی بلااشکال است \n",
      "url:  https://www.farsnews.ir/news/14001214000475/رئیسی-مسافرت-با-رعایت-اصول-بهداشتی-بلااشکال-است\n",
      "title:  آیت‌الله رئیسی: اقناع افکار عمومی در مسیر مقابله با کرونا ضروری است/ وزارت بهداشت از واکسن‌های تولید داخل حمایت کند \n",
      "url:  https://www.farsnews.ir/news/14000801000317/آیت‌الله-رئیسی-اقناع-افکار-عمومی-در-مسیر-مقابله-با-کرونا-ضروری-است-\n",
      "title:  نایب رئیس مجلس: دولت در تزریق واکسن و کاهش نگرانی‌‌های مردم شاهکار کرده است \n",
      "url:  https://www.farsnews.ir/news/14000923000300/نایب-رئیس-مجلس-دولت-در-تزریق-واکسن-و-کاهش-نگرانی‌‌های-مردم-شاهکار\n"
     ]
    }
   ],
   "source": [
    "query = 'واکسن کرونا ایرانی'\n",
    "query_tokens = preprocess([query], True, True)[0]\n",
    "scores = cosine_similarity(query_tokens, champion_list, inverted_index, N, docs_norms)\n",
    "print_result(json_data, scores, k=5)"
   ]
  }
 ],
 "metadata": {
  "kernelspec": {
   "display_name": "Python 3 (ipykernel)",
   "language": "python",
   "name": "python3"
  },
  "language_info": {
   "codemirror_mode": {
    "name": "ipython",
    "version": 3
   },
   "file_extension": ".py",
   "mimetype": "text/x-python",
   "name": "python",
   "nbconvert_exporter": "python",
   "pygments_lexer": "ipython3",
   "version": "3.9.7"
  }
 },
 "nbformat": 4,
 "nbformat_minor": 5
}
